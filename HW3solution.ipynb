{
  "nbformat": 4,
  "nbformat_minor": 0,
  "metadata": {
    "colab": {
      "provenance": [],
      "authorship_tag": "ABX9TyPHq2cXBqi5gKODc+E1+zfW",
      "include_colab_link": true
    },
    "kernelspec": {
      "name": "python3",
      "display_name": "Python 3"
    },
    "language_info": {
      "name": "python"
    }
  },
  "cells": [
    {
      "cell_type": "markdown",
      "metadata": {
        "id": "view-in-github",
        "colab_type": "text"
      },
      "source": [
        "<a href=\"https://colab.research.google.com/github/sophiasy88/MATH3364_25Spring/blob/main/HW3solution.ipynb\" target=\"_parent\"><img src=\"https://colab.research.google.com/assets/colab-badge.svg\" alt=\"Open In Colab\"/></a>"
      ]
    },
    {
      "cell_type": "code",
      "execution_count": 1,
      "metadata": {
        "colab": {
          "base_uri": "https://localhost:8080/"
        },
        "id": "FoKHz3e6-v84",
        "outputId": "3574a68a-613b-453f-8fb0-4b809401e677"
      },
      "outputs": [
        {
          "output_type": "stream",
          "name": "stdout",
          "text": [
            "\n",
            "--- Question 1: Naïve Bayes Assumptions ---\n",
            "1. Conditional Independence: Features are independent given the class label.\n",
            "2. Equal Contribution: Each feature contributes independently to classification.\n",
            "3. Feature Distributions: Assumes normal (Gaussian) or categorical distribution.\n"
          ]
        }
      ],
      "source": [
        "# Install required packages (only needed for Colab)\n",
        "\n",
        "# Import libraries\n",
        "import numpy as np\n",
        "import pandas as pd\n",
        "import statsmodels.api as sm\n",
        "from sklearn.model_selection import train_test_split, cross_val_score\n",
        "from sklearn.linear_model import LogisticRegression\n",
        "from scipy.special import expit\n",
        "\n",
        "# --- HW3 Solutions ---\n",
        "\n",
        "# --- Question 1: Assumptions of Naïve Bayes ---\n",
        "print(\"\\n--- Question 1: Naïve Bayes Assumptions ---\")\n",
        "print(\"1. Conditional Independence: Features are independent given the class label.\")\n",
        "print(\"2. Equal Contribution: Each feature contributes independently to classification.\")\n",
        "print(\"3. Feature Distributions: Assumes normal (Gaussian) or categorical distribution.\")\n",
        "\n",
        "\n"
      ]
    },
    {
      "cell_type": "code",
      "source": [
        "# --- Question 2: Logistic Regression Computation ---\n",
        "print(\"\\n--- Question 2: Logistic Regression Computation ---\")\n",
        "\n",
        "# Given logistic regression equation\n",
        "def logistic_regression_prob(X1, X2, beta0=-6, beta1=0.05, beta2=1):\n",
        "    logit = beta0 + beta1 * X1 + beta2 * X2\n",
        "    probability = expit(logit)  # Sigmoid function\n",
        "    return probability\n",
        "\n",
        "# (a) Compute probability for X1 = 40 hours, X2 = 3.5 GPA\n",
        "p_A = logistic_regression_prob(X1=40, X2=3.5)\n",
        "print(f\"(a) Probability of getting an A (40 hours, GPA 3.5): {p_A:.4f} ({p_A*100:.2f}%)\")\n",
        "\n",
        "# (b) Find X1 (study hours) for 50% probability\n",
        "X2_fixed = 3.5  # GPA = 3.5\n",
        "X1_needed = (6 - X2_fixed) / 0.05\n",
        "print(f\"(b) Student needs to study {X1_needed:.2f} hours to have a 50% chance of getting an A.\")\n",
        "\n"
      ],
      "metadata": {
        "colab": {
          "base_uri": "https://localhost:8080/"
        },
        "id": "bGkxXntFA0Fm",
        "outputId": "32023174-41b2-4ca9-b722-aa49920b1f74"
      },
      "execution_count": 2,
      "outputs": [
        {
          "output_type": "stream",
          "name": "stdout",
          "text": [
            "\n",
            "--- Question 2: Logistic Regression Computation ---\n",
            "(a) Probability of getting an A (40 hours, GPA 3.5): 0.3775 (37.75%)\n",
            "(b) Student needs to study 50.00 hours to have a 50% chance of getting an A.\n"
          ]
        }
      ]
    },
    {
      "cell_type": "code",
      "source": [
        "# --- Question 3: k-Fold Cross-Validation ---\n",
        "print(\"\\n--- Question 3: k-Fold Cross-Validation ---\")\n",
        "\n",
        "print(\"- k-fold splits data into k subsets.\")\n",
        "print(\"- The model trains on k-1 folds and tests on the remaining fold.\")\n",
        "print(\"- This repeats k times, and test errors are averaged.\")\n",
        "print(\"- More reliable than validation set approach.\")\n",
        "print(\"- LOOCV (Leave-One-Out CV) is similar but computationally expensive.\")\n",
        "\n"
      ],
      "metadata": {
        "colab": {
          "base_uri": "https://localhost:8080/"
        },
        "id": "gGjOoSqfBB3U",
        "outputId": "bdaa94af-2933-41ea-9ecf-698400ee6eec"
      },
      "execution_count": 3,
      "outputs": [
        {
          "output_type": "stream",
          "name": "stdout",
          "text": [
            "\n",
            "--- Question 3: k-Fold Cross-Validation ---\n",
            "- k-fold splits data into k subsets.\n",
            "- The model trains on k-1 folds and tests on the remaining fold.\n",
            "- This repeats k times, and test errors are averaged.\n",
            "- More reliable than validation set approach.\n",
            "- LOOCV (Leave-One-Out CV) is similar but computationally expensive.\n"
          ]
        }
      ]
    },
    {
      "cell_type": "code",
      "source": [
        "# --- Question 4: Logistic Regression & Validation Set Approach ---\n",
        "print(\"\\n--- Question 4: Logistic Regression on Default Dataset ---\")\n",
        "\n",
        "from google.colab import files\n",
        "uploaded = files.upload()\n",
        "# Load the dataset (ensure 'Default.csv' is uploaded in Colab)\n",
        "df = pd.read_csv(\"Default.csv\")\n",
        "\n",
        "# Encode categorical variables ('Default' and 'Student')\n",
        "df['default'] = df['default'].map({'No': 0, 'Yes': 1})\n",
        "df['student'] = df['student'].map({'No': 0, 'Yes': 1})\n",
        "\n",
        "# Define predictors and response variable\n",
        "X = df[['income', 'balance']]\n",
        "y = df['default']\n",
        "\n",
        "# (a) Train-Validation Split (70%-30%)\n",
        "X_train, X_val, y_train, y_val = train_test_split(X, y, test_size=0.3, random_state=42)\n",
        "\n",
        "# Fit logistic regression model\n",
        "log_reg = LogisticRegression()\n",
        "log_reg.fit(X_train, y_train)\n",
        "\n",
        "# Predict and compute validation error\n",
        "y_pred = log_reg.predict(X_val)\n",
        "val_error = np.mean(y_pred != y_val)\n",
        "\n",
        "print(f\"(a) Validation Set Error Rate: {val_error:.4f}\")\n",
        "\n",
        "# (b) Repeat the process 3 times with different splits\n",
        "val_errors = []\n",
        "for i in range(3):\n",
        "    X_train, X_val, y_train, y_val = train_test_split(X, y, test_size=0.3, random_state=i)\n",
        "    log_reg.fit(X_train, y_train)\n",
        "    y_pred = log_reg.predict(X_val)\n",
        "    val_errors.append(np.mean(y_pred != y_val))\n",
        "\n",
        "print(f\"(b) Validation Errors (3 different splits): {val_errors}\")\n",
        "\n",
        "# (c) Logistic Regression with Student Dummy Variable\n",
        "X = df[['income', 'balance', 'student']]\n",
        "X_train, X_val, y_train, y_val = train_test_split(X, y, test_size=0.3, random_state=42)\n",
        "\n",
        "log_reg.fit(X_train, y_train)\n",
        "y_pred = log_reg.predict(X_val)\n",
        "new_val_error = np.mean(y_pred != y_val)\n",
        "\n",
        "print(f\"(c) Validation Error After Adding 'Student' Variable: {new_val_error:.4f}\")\n"
      ],
      "metadata": {
        "colab": {
          "base_uri": "https://localhost:8080/",
          "height": 160
        },
        "id": "pe_XRJlIBIq_",
        "outputId": "bb3beca7-34cf-4ba8-a6a9-0f65d6df4773"
      },
      "execution_count": 7,
      "outputs": [
        {
          "output_type": "stream",
          "name": "stdout",
          "text": [
            "\n",
            "--- Question 4: Logistic Regression on Default Dataset ---\n"
          ]
        },
        {
          "output_type": "display_data",
          "data": {
            "text/plain": [
              "<IPython.core.display.HTML object>"
            ],
            "text/html": [
              "\n",
              "     <input type=\"file\" id=\"files-62353e1c-4a0b-4af5-a948-124940cf9905\" name=\"files[]\" multiple disabled\n",
              "        style=\"border:none\" />\n",
              "     <output id=\"result-62353e1c-4a0b-4af5-a948-124940cf9905\">\n",
              "      Upload widget is only available when the cell has been executed in the\n",
              "      current browser session. Please rerun this cell to enable.\n",
              "      </output>\n",
              "      <script>// Copyright 2017 Google LLC\n",
              "//\n",
              "// Licensed under the Apache License, Version 2.0 (the \"License\");\n",
              "// you may not use this file except in compliance with the License.\n",
              "// You may obtain a copy of the License at\n",
              "//\n",
              "//      http://www.apache.org/licenses/LICENSE-2.0\n",
              "//\n",
              "// Unless required by applicable law or agreed to in writing, software\n",
              "// distributed under the License is distributed on an \"AS IS\" BASIS,\n",
              "// WITHOUT WARRANTIES OR CONDITIONS OF ANY KIND, either express or implied.\n",
              "// See the License for the specific language governing permissions and\n",
              "// limitations under the License.\n",
              "\n",
              "/**\n",
              " * @fileoverview Helpers for google.colab Python module.\n",
              " */\n",
              "(function(scope) {\n",
              "function span(text, styleAttributes = {}) {\n",
              "  const element = document.createElement('span');\n",
              "  element.textContent = text;\n",
              "  for (const key of Object.keys(styleAttributes)) {\n",
              "    element.style[key] = styleAttributes[key];\n",
              "  }\n",
              "  return element;\n",
              "}\n",
              "\n",
              "// Max number of bytes which will be uploaded at a time.\n",
              "const MAX_PAYLOAD_SIZE = 100 * 1024;\n",
              "\n",
              "function _uploadFiles(inputId, outputId) {\n",
              "  const steps = uploadFilesStep(inputId, outputId);\n",
              "  const outputElement = document.getElementById(outputId);\n",
              "  // Cache steps on the outputElement to make it available for the next call\n",
              "  // to uploadFilesContinue from Python.\n",
              "  outputElement.steps = steps;\n",
              "\n",
              "  return _uploadFilesContinue(outputId);\n",
              "}\n",
              "\n",
              "// This is roughly an async generator (not supported in the browser yet),\n",
              "// where there are multiple asynchronous steps and the Python side is going\n",
              "// to poll for completion of each step.\n",
              "// This uses a Promise to block the python side on completion of each step,\n",
              "// then passes the result of the previous step as the input to the next step.\n",
              "function _uploadFilesContinue(outputId) {\n",
              "  const outputElement = document.getElementById(outputId);\n",
              "  const steps = outputElement.steps;\n",
              "\n",
              "  const next = steps.next(outputElement.lastPromiseValue);\n",
              "  return Promise.resolve(next.value.promise).then((value) => {\n",
              "    // Cache the last promise value to make it available to the next\n",
              "    // step of the generator.\n",
              "    outputElement.lastPromiseValue = value;\n",
              "    return next.value.response;\n",
              "  });\n",
              "}\n",
              "\n",
              "/**\n",
              " * Generator function which is called between each async step of the upload\n",
              " * process.\n",
              " * @param {string} inputId Element ID of the input file picker element.\n",
              " * @param {string} outputId Element ID of the output display.\n",
              " * @return {!Iterable<!Object>} Iterable of next steps.\n",
              " */\n",
              "function* uploadFilesStep(inputId, outputId) {\n",
              "  const inputElement = document.getElementById(inputId);\n",
              "  inputElement.disabled = false;\n",
              "\n",
              "  const outputElement = document.getElementById(outputId);\n",
              "  outputElement.innerHTML = '';\n",
              "\n",
              "  const pickedPromise = new Promise((resolve) => {\n",
              "    inputElement.addEventListener('change', (e) => {\n",
              "      resolve(e.target.files);\n",
              "    });\n",
              "  });\n",
              "\n",
              "  const cancel = document.createElement('button');\n",
              "  inputElement.parentElement.appendChild(cancel);\n",
              "  cancel.textContent = 'Cancel upload';\n",
              "  const cancelPromise = new Promise((resolve) => {\n",
              "    cancel.onclick = () => {\n",
              "      resolve(null);\n",
              "    };\n",
              "  });\n",
              "\n",
              "  // Wait for the user to pick the files.\n",
              "  const files = yield {\n",
              "    promise: Promise.race([pickedPromise, cancelPromise]),\n",
              "    response: {\n",
              "      action: 'starting',\n",
              "    }\n",
              "  };\n",
              "\n",
              "  cancel.remove();\n",
              "\n",
              "  // Disable the input element since further picks are not allowed.\n",
              "  inputElement.disabled = true;\n",
              "\n",
              "  if (!files) {\n",
              "    return {\n",
              "      response: {\n",
              "        action: 'complete',\n",
              "      }\n",
              "    };\n",
              "  }\n",
              "\n",
              "  for (const file of files) {\n",
              "    const li = document.createElement('li');\n",
              "    li.append(span(file.name, {fontWeight: 'bold'}));\n",
              "    li.append(span(\n",
              "        `(${file.type || 'n/a'}) - ${file.size} bytes, ` +\n",
              "        `last modified: ${\n",
              "            file.lastModifiedDate ? file.lastModifiedDate.toLocaleDateString() :\n",
              "                                    'n/a'} - `));\n",
              "    const percent = span('0% done');\n",
              "    li.appendChild(percent);\n",
              "\n",
              "    outputElement.appendChild(li);\n",
              "\n",
              "    const fileDataPromise = new Promise((resolve) => {\n",
              "      const reader = new FileReader();\n",
              "      reader.onload = (e) => {\n",
              "        resolve(e.target.result);\n",
              "      };\n",
              "      reader.readAsArrayBuffer(file);\n",
              "    });\n",
              "    // Wait for the data to be ready.\n",
              "    let fileData = yield {\n",
              "      promise: fileDataPromise,\n",
              "      response: {\n",
              "        action: 'continue',\n",
              "      }\n",
              "    };\n",
              "\n",
              "    // Use a chunked sending to avoid message size limits. See b/62115660.\n",
              "    let position = 0;\n",
              "    do {\n",
              "      const length = Math.min(fileData.byteLength - position, MAX_PAYLOAD_SIZE);\n",
              "      const chunk = new Uint8Array(fileData, position, length);\n",
              "      position += length;\n",
              "\n",
              "      const base64 = btoa(String.fromCharCode.apply(null, chunk));\n",
              "      yield {\n",
              "        response: {\n",
              "          action: 'append',\n",
              "          file: file.name,\n",
              "          data: base64,\n",
              "        },\n",
              "      };\n",
              "\n",
              "      let percentDone = fileData.byteLength === 0 ?\n",
              "          100 :\n",
              "          Math.round((position / fileData.byteLength) * 100);\n",
              "      percent.textContent = `${percentDone}% done`;\n",
              "\n",
              "    } while (position < fileData.byteLength);\n",
              "  }\n",
              "\n",
              "  // All done.\n",
              "  yield {\n",
              "    response: {\n",
              "      action: 'complete',\n",
              "    }\n",
              "  };\n",
              "}\n",
              "\n",
              "scope.google = scope.google || {};\n",
              "scope.google.colab = scope.google.colab || {};\n",
              "scope.google.colab._files = {\n",
              "  _uploadFiles,\n",
              "  _uploadFilesContinue,\n",
              "};\n",
              "})(self);\n",
              "</script> "
            ]
          },
          "metadata": {}
        },
        {
          "output_type": "stream",
          "name": "stdout",
          "text": [
            "Saving Default.csv to Default (3).csv\n",
            "(a) Validation Set Error Rate: 0.0267\n",
            "(b) Validation Errors (3 different splits): [0.027333333333333334, 0.024666666666666667, 0.023666666666666666]\n",
            "(c) Validation Error After Adding 'Student' Variable: 0.0267\n"
          ]
        }
      ]
    }
  ]
}